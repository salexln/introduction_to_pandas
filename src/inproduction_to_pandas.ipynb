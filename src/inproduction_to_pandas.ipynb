{
 "cells": [
  {
   "cell_type": "markdown",
   "metadata": {},
   "source": [
    "# Introduction to Pandas"
   ]
  },
  {
   "cell_type": "markdown",
   "metadata": {},
   "source": [
    "##  Some disclaimers\n",
    "* The code is written in python 2.7 (if you want to run it in python 3, you'll need to do some adaptions)\n",
    "* Almost every command in Pandas, you can do in a couple of ways. The code I wrote here is the one I thought the most suited"
   ]
  },
  {
   "cell_type": "markdown",
   "metadata": {},
   "source": [
    "## What is Pandas?\n",
    "Pandas is an open source, BSD-licensed library providing high-performance, easy-to-use data structures and data analysis tools for the Python programming language.\n",
    "\n",
    "https://pandas.pydata.org/"
   ]
  },
  {
   "cell_type": "markdown",
   "metadata": {},
   "source": [
    "## How to install:\n",
    "`pip install pandas` (in linux / mac)\n",
    "\n",
    "### Dependencies:\n",
    "(install using `pip install XXX`)\n",
    "* numpy\n",
    "* seaborn\n",
    "* sklearn"
   ]
  },
  {
   "cell_type": "markdown",
   "metadata": {},
   "source": [
    "## Documentation:\n",
    "https://pandas.pydata.org/pandas-docs/stable/"
   ]
  },
  {
   "cell_type": "markdown",
   "metadata": {},
   "source": [
    "# Titanic: Machine Learning from Disaster\n",
    "This data is taken from Kaggle is great for playing with Data Science and Machine Leanring\n",
    "\n",
    "https://www.kaggle.com/c/titanic"
   ]
  },
  {
   "cell_type": "markdown",
   "metadata": {},
   "source": [
    "## Download the data set:\n",
    "Down load it from here:\n",
    "\n",
    "https://www.kaggle.com/c/titanic/data"
   ]
  },
  {
   "cell_type": "markdown",
   "metadata": {},
   "source": [
    "## Exploring the data:"
   ]
  },
  {
   "cell_type": "markdown",
   "metadata": {},
   "source": [
    "#### Load and check the data:"
   ]
  },
  {
   "cell_type": "code",
   "execution_count": null,
   "metadata": {},
   "outputs": [],
   "source": [
    "data_path = '../data/titanic_train.csv'\n",
    "\n",
    "import pandas as pd\n",
    "df = pd.read_csv(data_path, header=0)\n",
    "\n",
    "# see all different df types:\n",
    "df.ftypes"
   ]
  },
  {
   "cell_type": "code",
   "execution_count": null,
   "metadata": {},
   "outputs": [],
   "source": [
    "# See more info:\n",
    "df.info()"
   ]
  },
  {
   "cell_type": "code",
   "execution_count": null,
   "metadata": {},
   "outputs": [],
   "source": [
    "df.head(10)"
   ]
  },
  {
   "cell_type": "code",
   "execution_count": null,
   "metadata": {},
   "outputs": [],
   "source": [
    "# how many rows / columns\n",
    "df.shape"
   ]
  },
  {
   "cell_type": "code",
   "execution_count": null,
   "metadata": {},
   "outputs": [],
   "source": [
    "# some valuable statistical data \n",
    "df.describe()\n",
    "\n",
    "# std is the standard deviation"
   ]
  },
  {
   "cell_type": "markdown",
   "metadata": {},
   "source": [
    "## Visualization:"
   ]
  },
  {
   "cell_type": "code",
   "execution_count": null,
   "metadata": {},
   "outputs": [],
   "source": [
    "# see an histogram of ages\n",
    "import pylab as P\n",
    "df['Age'].hist()\n",
    "P.title('Age histogram')\n",
    "P.xlabel('Ages')\n",
    "P.ylabel('Amount of passengers')\n",
    "P.show()"
   ]
  },
  {
   "cell_type": "code",
   "execution_count": null,
   "metadata": {},
   "outputs": [],
   "source": [
    "# we cannot plot the 'Survived' column as-it, we must sum it first\n",
    "print pd.value_counts(df['Survived'].values)\n",
    "pd.value_counts(df['Survived'].values).plot(kind='pie', stacked=True)\n",
    "# pd.value_counts(df['Survived'].values).plot(kind='barh', stacked=True)\n",
    "P.title('Survival pie chart')\n",
    "P.show()\n",
    "\n",
    "# 0 = Did not survived, 1 = Survived\n",
    "\n",
    "# other different build-in charts: \n",
    "# line, bar, barh, hist, box, kde, density, area, pie, scatter, hexbin\n",
    "# more info here: \n",
    "# http://pandas.pydata.org/pandas-docs/version/0.17.0/generated/pandas.DataFrame.plot.html"
   ]
  },
  {
   "cell_type": "code",
   "execution_count": null,
   "metadata": {},
   "outputs": [],
   "source": [
    "# survival based on the gender.\n",
    "survived_sex = df[df['Survived']==1]['Sex'].value_counts()\n",
    "dead_sex = df[df['Survived']==0]['Sex'].value_counts()\n",
    "df2 = pd.DataFrame([survived_sex,dead_sex])\n",
    "df2.index = ['Survived','Dead']\n",
    "df2.plot(kind='bar',stacked=True, figsize=(15,8))\n",
    "P.title('Survival based on the gender')\n",
    "P.ylabel('Amount of passengers')\n",
    "P.show()\n"
   ]
  },
  {
   "cell_type": "code",
   "execution_count": null,
   "metadata": {},
   "outputs": [],
   "source": [
    "#generate age groups\n",
    "df['age_group'] = df['Age']//10*10\n",
    "df.head(10)"
   ]
  },
  {
   "cell_type": "code",
   "execution_count": null,
   "metadata": {},
   "outputs": [],
   "source": [
    "#seaborn visualization\n",
    "import seaborn as sns\n",
    "# from matplotlib import pyplot as plt\n",
    "sns.countplot(x=\"age_group\", hue=\"Survived\", data=df).set_title('Survived by age group')\n",
    "P.xlabel('Age group')\n",
    "P.ylabel('Survived')\n",
    "P.show()"
   ]
  },
  {
   "cell_type": "code",
   "execution_count": 294,
   "metadata": {},
   "outputs": [],
   "source": [
    "# age_group is not needed anymore\n",
    "df = df.drop(['age_group'], axis=1)"
   ]
  },
  {
   "cell_type": "code",
   "execution_count": null,
   "metadata": {},
   "outputs": [],
   "source": [
    "# better to be at first class\n",
    "ax = sns.countplot(x=\"Pclass\", hue=\"Survived\", data=df).set_title('Survived by class')\n",
    "P.xlabel('Class')\n",
    "P.ylabel('Survived')\n",
    "P.show()"
   ]
  },
  {
   "cell_type": "markdown",
   "metadata": {},
   "source": [
    "## Cleaning the data\n",
    "Before the actual processing, we would like clean the data: remove unneeded columns, add missing values, normalize, change types,  etc..."
   ]
  },
  {
   "cell_type": "code",
   "execution_count": null,
   "metadata": {},
   "outputs": [],
   "source": [
    "# it is difficult to work with string values such as \"male\", or \"female\":\n",
    "\n",
    "# we will create a new column 'Gender' and will be binary:\n",
    "df['Gender'] = -1\n",
    "df.head(10)"
   ]
  },
  {
   "cell_type": "code",
   "execution_count": null,
   "metadata": {},
   "outputs": [],
   "source": [
    "# set Gender column:\n",
    "df['Gender'] = df['Sex'].map( {'female' : 0, 'male' : 1} ).astype(int)\n",
    "\n",
    "# drop the sex column - we don't need it anymore:\n",
    "df =df.drop(['Sex'], axis=1)\n",
    "\n",
    "\n",
    "df.head(10)"
   ]
  },
  {
   "cell_type": "code",
   "execution_count": null,
   "metadata": {},
   "outputs": [],
   "source": [
    "df.count()\n",
    "# we can see that the age missing some values. Let's fill them"
   ]
  },
  {
   "cell_type": "code",
   "execution_count": null,
   "metadata": {},
   "outputs": [],
   "source": [
    "# We could not fill Cabin properly because it has too many missing value  \n",
    "# we will remove the column:\n",
    "\n",
    "df = df.drop(['Cabin'], axis=1)"
   ]
  },
  {
   "cell_type": "code",
   "execution_count": null,
   "metadata": {},
   "outputs": [],
   "source": [
    "df['Age'].head(20)"
   ]
  },
  {
   "cell_type": "code",
   "execution_count": null,
   "metadata": {},
   "outputs": [],
   "source": [
    "# we will fill the missing value in Age with the mean of the existing values (or the median)\n",
    "#df['Age'].median()\n",
    "# df['Age'].mean()\n",
    "\n",
    "# we don't want to replace the existing values so for that we'll add a new column 'AllAges' (maybe a better name?)\n",
    "\n",
    "df['AllAge'] = df['Age']\n",
    "\n",
    "df['AllAge'].fillna(int(df['Age'].mean()), inplace=True)\n",
    "\n",
    "df.head(20)"
   ]
  },
  {
   "cell_type": "code",
   "execution_count": null,
   "metadata": {},
   "outputs": [],
   "source": [
    "# lets check the age histogram again:\n",
    "df['AllAge'].hist()\n",
    "P.title('Age histogram')\n",
    "P.xlabel('Ages')\n",
    "P.ylabel('Amount of passengers')\n",
    "P.show()"
   ]
  },
  {
   "cell_type": "code",
   "execution_count": null,
   "metadata": {},
   "outputs": [],
   "source": [
    "# improvement: instead of filling the both males and females with the same mean value, we will fill males\n",
    "# with males mean and females with females mean\n",
    "df['AllAge'] = df['Age']\n",
    "\n",
    "# boolean indexing\n",
    "male_mean = int(df.loc[df['Gender'] == 1,'Age'].mean())\n",
    "female_mean = int(df.loc[df['Gender'] == 0]['Age'].mean())\n",
    "\n",
    "print 'male mean: ', male_mean\n",
    "print 'female mean: ', female_mean\n",
    "\n",
    "import numpy as np\n",
    "\n",
    "# loc gets rows (or columns) with particular labels from the index\n",
    "\n",
    "df.loc[(df['Gender'] == 1 & np.isnan(df['Age'])),'AllAge'] = male_mean\n",
    "df.loc[(df['Gender'] == 0 & np.isnan(df['Age'])),'AllAge'] = female_mean\n",
    "\n",
    "# for index, row in df.iterrows():\n",
    "#     if pd.isnull(row['AllAge']):\n",
    "#         if row.Gender == 1:\n",
    "#             df.at[index, 'AllAge'] = male_mean\n",
    "#         else:\n",
    "#             df.at[index,'AllAge'] =female_mean\n",
    "\n",
    "# df = df.drop(['Age'], axis=1)\n",
    "\n",
    "df.head(20)\n",
    "# A more persise methods:\n",
    "# 1. Check if the person is a child or not (if he has sublings or parents)\n",
    "#    and set the mean age accordinly.\n",
    "# 2. Check the percent of each bar in the histogram and add the missing values as a mean of the bar \n",
    "# (so there won't be too much varience)"
   ]
  },
  {
   "cell_type": "code",
   "execution_count": null,
   "metadata": {},
   "outputs": [],
   "source": [
    "# lets add a new featuer: family_size:\n",
    "# the motivation is to reduce similar features into one\n",
    "df['FamilySize'] = df['SibSp'] + df['Parch']\n",
    "\n",
    "# remove the united features\n",
    "df = df.drop(['SibSp', 'Parch'], axis=1)\n",
    "\n",
    "df.head(10)"
   ]
  },
  {
   "cell_type": "markdown",
   "metadata": {},
   "source": [
    "## Filtering:"
   ]
  },
  {
   "cell_type": "code",
   "execution_count": null,
   "metadata": {},
   "outputs": [],
   "source": [
    "# lets find how many children below the age of 10 were of the ship:\n",
    "below_10 = df[df['AllAge'] < 10]\n",
    "len(below_10)\n"
   ]
  },
  {
   "cell_type": "code",
   "execution_count": null,
   "metadata": {},
   "outputs": [],
   "source": [
    "# lets check how many of then survived:\n",
    "below_10['Survived'].value_counts()"
   ]
  },
  {
   "cell_type": "code",
   "execution_count": null,
   "metadata": {},
   "outputs": [],
   "source": [
    "# or in percentage:\n",
    "below_10['Survived'].value_counts(normalize=True)"
   ]
  },
  {
   "cell_type": "markdown",
   "metadata": {},
   "source": [
    "## Pivoting:"
   ]
  },
  {
   "cell_type": "code",
   "execution_count": null,
   "metadata": {
    "scrolled": true
   },
   "outputs": [],
   "source": [
    "# Similar to Excel's PivotTable, pivoting in Pandas enables us to automatically sort,\n",
    "# count, total, or average the data stored in one table\n",
    "\n",
    "df.pivot_table(index='Gender', values='Survived', aggfunc=[np.sum, len, np.mean])\n",
    "# 3 out of every 4 woman were saved! looks like \"women and children first\" works\n",
    "# (men wern't so lucky)"
   ]
  },
  {
   "cell_type": "code",
   "execution_count": null,
   "metadata": {},
   "outputs": [],
   "source": [
    "# upper class women has much more chances to survive!\n",
    "pd.pivot_table(df,index=['Gender', 'Pclass'], values=['Survived'], aggfunc=[np.sum, len, np.mean])"
   ]
  },
  {
   "cell_type": "code",
   "execution_count": null,
   "metadata": {},
   "outputs": [],
   "source": [
    "# lets split the passengers into children (under 18) and adults (18+) and see how this effect the \n",
    "# survival chances\n",
    "\n",
    "age = pd.cut(df['Age'], [0, 18, 80])\n",
    "pd.pivot_table(df,index=['Gender', age], values=['Survived'], aggfunc=[np.sum, len, np.mean])\n"
   ]
  },
  {
   "cell_type": "markdown",
   "metadata": {},
   "source": [
    "## Time for some machine learning!\n",
    "In this section we try to use the cleaned data and predict the survival of the passenger based on the data features\n"
   ]
  },
  {
   "cell_type": "markdown",
   "metadata": {},
   "source": [
    "### Splitting the data (Cross validation):\n",
    "We need to spilt the data into train and test in order to check how accurate our model is"
   ]
  },
  {
   "cell_type": "code",
   "execution_count": null,
   "metadata": {},
   "outputs": [],
   "source": [
    "from sklearn.model_selection import train_test_split\n",
    "\n",
    "# X is all the set of the features we want to predict on\n",
    "X = df.drop(['Survived', 'PassengerId', 'Name'], axis=1)\n",
    "\n",
    "# y is the feature we want to be predicted\n",
    "y = df['Survived']\n",
    "\n",
    "# split the data 80-20\n",
    "X_train, X_test, y_train, y_test = train_test_split(X, y, test_size=0.2, random_state=42)\n",
    "\n",
    "len(X_train), len(X_test), len(y_train), len(y_test)\n"
   ]
  },
  {
   "cell_type": "markdown",
   "metadata": {},
   "source": [
    "###  Predicting using  Logistic Regression:\n",
    "Logistic Regression is a classification algorithm. It's used to predict a binary outcome given a set (of independent) variables.\n",
    "\n",
    "More info in:\n",
    "\n",
    "https://en.wikipedia.org/wiki/Logistic_regression\n",
    "\n",
    "http://scikit-learn.org/stable/modules/generated/sklearn.linear_model.LogisticRegression.html\n"
   ]
  },
  {
   "cell_type": "markdown",
   "metadata": {},
   "source": [
    "#### Logistic Regression - first try"
   ]
  },
  {
   "cell_type": "code",
   "execution_count": null,
   "metadata": {},
   "outputs": [],
   "source": [
    "from sklearn.linear_model import LogisticRegression\n",
    "from sklearn.metrics import accuracy_score\n",
    "\n",
    "logreg = LogisticRegression()\n",
    "\n",
    "# lets try to predict only using 'AllAge' feature:\n",
    "predictors = ['AllAge']\n",
    "\n",
    "# Train the model according to the given training data\n",
    "logreg.fit(X_train[predictors], y_train)\n",
    "\n",
    "# Predict class labels for samples in X_test\n",
    "y_pred = logreg.predict(X_test[predictors])\n",
    "\n",
    "# check the difference between y_pred and y_test:\n",
    "accuracy_score(y_test, y_pred)"
   ]
  },
  {
   "cell_type": "markdown",
   "metadata": {},
   "source": [
    "#### Logistic Regression - second try"
   ]
  },
  {
   "cell_type": "code",
   "execution_count": null,
   "metadata": {},
   "outputs": [],
   "source": [
    "# this time lets try to predict with more features\n",
    "predictors = ['AllAge', 'Pclass', 'FamilySize', 'Gender', 'Fare']\n",
    "\n",
    "logreg.fit(X_train[predictors], y_train)\n",
    "\n",
    "y_pred = logreg.predict(X_test[predictors])\n",
    "\n",
    "accuracy_score(y_test, y_pred)"
   ]
  },
  {
   "cell_type": "markdown",
   "metadata": {},
   "source": [
    "###  Predicting using  Naive Bayes:\n",
    "\n",
    "Naive Bayes classifiers are a family of simple probabilistic classifiers based on applying Bayes' theorem with naive independence assumptions between the features.\n",
    "\n",
    "https://en.wikipedia.org/wiki/Naive_Bayes_classifier\n",
    "\n",
    "http://scikit-learn.org/stable/modules/naive_bayes.html"
   ]
  },
  {
   "cell_type": "code",
   "execution_count": null,
   "metadata": {},
   "outputs": [],
   "source": [
    "# the advanges of NaiveBayes is that it is relatively fast and the features are relatively independeant, \n",
    "# the result will be better\n",
    "\n",
    "from sklearn.naive_bayes import GaussianNB\n",
    "\n",
    "# GaussianNB implements the Gaussian Naive Bayes algorithm for classification. \n",
    "# The likelihood of the features is assumed to be Gaussian\n",
    "\n",
    "gaussian_nb = GaussianNB()\n",
    "\n",
    "gaussian_nb.fit(X_train[predictors], y_train)\n",
    "y_pred = gaussian_nb.predict(X_test[predictors])\n",
    "\n",
    "accuracy_score(y_test, y_pred)"
   ]
  },
  {
   "cell_type": "markdown",
   "metadata": {},
   "source": [
    "###  Predicting using  Random Forest:\n",
    "\n",
    "Random forests is a learning method for classification, regression and other tasks, that operate by constructing a multitude of random decision trees.\n",
    "\n",
    "https://en.wikipedia.org/wiki/Random_forest\n",
    "\n",
    "http://scikit-learn.org/stable/modules/generated/sklearn.ensemble.RandomForestClassifier.html\n",
    "\n",
    "https://medium.com/@Synced/how-random-forest-algorithm-works-in-machine-learning-3c0fe15b6674"
   ]
  },
  {
   "cell_type": "code",
   "execution_count": 283,
   "metadata": {},
   "outputs": [
    {
     "data": {
      "text/plain": [
       "0.8666666666666667"
      ]
     },
     "execution_count": 283,
     "metadata": {},
     "output_type": "execute_result"
    }
   ],
   "source": [
    "from sklearn.ensemble import RandomForestClassifier\n",
    "\n",
    "\n",
    "predictors = ['AllAge', 'Pclass', 'FamilySize', 'Gender', 'Fare']\n",
    "\n",
    "random_forest = RandomForestClassifier()\n",
    "\n",
    "random_forest.fit(X_train[predictors], y_train)\n",
    "y_pred = random_forest.predict(X_test[predictors])\n",
    "\n",
    "accuracy_score(y_test, y_pred)"
   ]
  },
  {
   "cell_type": "code",
   "execution_count": null,
   "metadata": {},
   "outputs": [],
   "source": []
  },
  {
   "cell_type": "code",
   "execution_count": null,
   "metadata": {},
   "outputs": [],
   "source": []
  }
 ],
 "metadata": {
  "kernelspec": {
   "display_name": "Python 2",
   "language": "python",
   "name": "python2"
  },
  "language_info": {
   "codemirror_mode": {
    "name": "ipython",
    "version": 2
   },
   "file_extension": ".py",
   "mimetype": "text/x-python",
   "name": "python",
   "nbconvert_exporter": "python",
   "pygments_lexer": "ipython2",
   "version": "2.7.12"
  }
 },
 "nbformat": 4,
 "nbformat_minor": 2
}
